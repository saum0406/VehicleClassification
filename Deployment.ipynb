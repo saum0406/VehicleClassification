{
  "nbformat": 4,
  "nbformat_minor": 0,
  "metadata": {
    "colab": {
      "provenance": []
    },
    "kernelspec": {
      "name": "python3",
      "display_name": "Python 3"
    },
    "language_info": {
      "name": "python"
    }
  },
  "cells": [
    {
      "cell_type": "code",
      "execution_count": 3,
      "metadata": {
        "colab": {
          "base_uri": "https://localhost:8080/"
        },
        "id": "XsS2Uv1HJub1",
        "outputId": "20d4c7d0-2011-470c-baf7-da8e7f84bc95"
      },
      "outputs": [
        {
          "output_type": "stream",
          "name": "stdout",
          "text": [
            " * Serving Flask app '__main__'\n",
            " * Debug mode: on\n"
          ]
        },
        {
          "output_type": "stream",
          "name": "stderr",
          "text": [
            "INFO:werkzeug:\u001b[31m\u001b[1mWARNING: This is a development server. Do not use it in a production deployment. Use a production WSGI server instead.\u001b[0m\n",
            " * Running on http://127.0.0.1:5000\n",
            "INFO:werkzeug:\u001b[33mPress CTRL+C to quit\u001b[0m\n",
            "INFO:werkzeug: * Restarting with stat\n"
          ]
        }
      ],
      "source": [
        "# Import required libraries\n",
        "import os\n",
        "import pickle\n",
        "import numpy as np\n",
        "import requests\n",
        "from flask import Flask, render_template, request\n",
        "from skimage.io import imread\n",
        "from skimage.transform import resize\n",
        "\n",
        "app = Flask(__name__)\n",
        "\n",
        "# Load the trained model\n",
        "model = pickle.load(open('img_model.p', 'rb'))\n",
        "\n",
        "# Vehicle categories\n",
        "Categories = ['bike', 'car', 'cart', 'cycle', 'truck']\n",
        "\n",
        "# Function to predict the vehicle type from the given URL\n",
        "def predict_vehicle(url):\n",
        "    img = imread(url)\n",
        "    img_resized = resize(img, (150, 150, 3))\n",
        "    flat_data = img_resized.flatten()\n",
        "    flat_data = np.array([flat_data])\n",
        "    y_out = model.predict(flat_data)\n",
        "    return Categories[y_out[0]]\n",
        "\n",
        "@app.route('/', methods=['GET', 'POST'])\n",
        "def predict():\n",
        "    if request.method == 'POST':\n",
        "        url = request.form['url']\n",
        "        try:\n",
        "            response = requests.get(url)\n",
        "            if response.status_code == 200:\n",
        "                predicted_output = predict_vehicle(url)\n",
        "                return render_template('result.html', prediction=predicted_output, image_url=url)\n",
        "            else:\n",
        "                return render_template('error.html', error=\"Invalid URL\")\n",
        "        except:\n",
        "            return render_template('error.html', error=\"Error occurred while processing the image\")\n",
        "    return render_template('index.html')\n",
        "\n",
        "if __name__ == '__main__':\n",
        "    app.run(debug=True)\n"
      ]
    },
    {
      "cell_type": "code",
      "source": [
        "import os\n",
        "\n",
        "# Create the 'templates' folder\n",
        "templates_dir = '/content/templates'\n",
        "os.makedirs(templates_dir, exist_ok=True)"
      ],
      "metadata": {
        "id": "hEemK2sNVOaa"
      },
      "execution_count": 5,
      "outputs": []
    },
    {
      "cell_type": "code",
      "source": [
        "index_html_content = '''\n",
        "<!DOCTYPE html>\n",
        "<html>\n",
        "<head>\n",
        "    <title>Vehicle Classification</title>\n",
        "</head>\n",
        "<body>\n",
        "    <h1>Vehicle Classification</h1>\n",
        "    <form method=\"post\" action=\"/\">\n",
        "        <label for=\"url\">Enter Image URL:</label><br>\n",
        "        <input type=\"text\" id=\"url\" name=\"url\" required><br><br>\n",
        "        <input type=\"submit\" value=\"Predict\">\n",
        "    </form>\n",
        "</body>\n",
        "</html>\n",
        "'''\n",
        "\n",
        "index_html_path = os.path.join(templates_dir, 'index.html')\n",
        "\n",
        "with open(index_html_path, 'w') as file:\n",
        "    file.write(index_html_content)\n"
      ],
      "metadata": {
        "id": "baIp-82TOx1x"
      },
      "execution_count": 6,
      "outputs": []
    },
    {
      "cell_type": "code",
      "source": [
        "result_html_content = '''\n",
        "<!DOCTYPE html>\n",
        "<html>\n",
        "<head>\n",
        "    <title>Result</title>\n",
        "</head>\n",
        "<body>\n",
        "    <h1>Vehicle Classification Result</h1>\n",
        "    <img src=\"{{ image_url }}\" alt=\"Input Image\" style=\"max-width: 300px;\"><br>\n",
        "    <h2>Predicted Output: {{ prediction }}</h2>\n",
        "</body>\n",
        "</html>\n",
        "'''\n",
        "\n",
        "result_html_path = os.path.join(templates_dir, 'result.html')\n",
        "\n",
        "with open(result_html_path, 'w') as file:\n",
        "    file.write(result_html_content)\n"
      ],
      "metadata": {
        "id": "7WcWKES6V-Ac"
      },
      "execution_count": 7,
      "outputs": []
    },
    {
      "cell_type": "code",
      "source": [
        "error_html_content = '''\n",
        "<!DOCTYPE html>\n",
        "<html>\n",
        "<head>\n",
        "    <title>Error</title>\n",
        "</head>\n",
        "<body>\n",
        "    <h1>Error</h1>\n",
        "    <p>{{ error }}</p>\n",
        "</body>\n",
        "</html>\n",
        "'''\n",
        "\n",
        "error_html_path = os.path.join(templates_dir, 'error.html')\n",
        "\n",
        "with open(error_html_path, 'w') as file:\n",
        "    file.write(error_html_content)\n"
      ],
      "metadata": {
        "id": "CBa4Zt1zWCUV"
      },
      "execution_count": 8,
      "outputs": []
    },
    {
      "cell_type": "code",
      "source": [
        "!pip install flask-ngrok"
      ],
      "metadata": {
        "colab": {
          "base_uri": "https://localhost:8080/"
        },
        "id": "NwgPo1lEYzWv",
        "outputId": "b1adf1a5-bc77-4b6e-b4f6-b99552ea88b7"
      },
      "execution_count": 15,
      "outputs": [
        {
          "output_type": "stream",
          "name": "stdout",
          "text": [
            "Collecting flask-ngrok\n",
            "  Downloading flask_ngrok-0.0.25-py3-none-any.whl (3.1 kB)\n",
            "Requirement already satisfied: Flask>=0.8 in /usr/local/lib/python3.10/dist-packages (from flask-ngrok) (2.2.5)\n",
            "Requirement already satisfied: requests in /usr/local/lib/python3.10/dist-packages (from flask-ngrok) (2.27.1)\n",
            "Requirement already satisfied: Werkzeug>=2.2.2 in /usr/local/lib/python3.10/dist-packages (from Flask>=0.8->flask-ngrok) (2.3.6)\n",
            "Requirement already satisfied: Jinja2>=3.0 in /usr/local/lib/python3.10/dist-packages (from Flask>=0.8->flask-ngrok) (3.1.2)\n",
            "Requirement already satisfied: itsdangerous>=2.0 in /usr/local/lib/python3.10/dist-packages (from Flask>=0.8->flask-ngrok) (2.1.2)\n",
            "Requirement already satisfied: click>=8.0 in /usr/local/lib/python3.10/dist-packages (from Flask>=0.8->flask-ngrok) (8.1.6)\n",
            "Requirement already satisfied: urllib3<1.27,>=1.21.1 in /usr/local/lib/python3.10/dist-packages (from requests->flask-ngrok) (1.26.16)\n",
            "Requirement already satisfied: certifi>=2017.4.17 in /usr/local/lib/python3.10/dist-packages (from requests->flask-ngrok) (2023.5.7)\n",
            "Requirement already satisfied: charset-normalizer~=2.0.0 in /usr/local/lib/python3.10/dist-packages (from requests->flask-ngrok) (2.0.12)\n",
            "Requirement already satisfied: idna<4,>=2.5 in /usr/local/lib/python3.10/dist-packages (from requests->flask-ngrok) (3.4)\n",
            "Requirement already satisfied: MarkupSafe>=2.0 in /usr/local/lib/python3.10/dist-packages (from Jinja2>=3.0->Flask>=0.8->flask-ngrok) (2.1.3)\n",
            "Installing collected packages: flask-ngrok\n",
            "Successfully installed flask-ngrok-0.0.25\n"
          ]
        }
      ]
    },
    {
      "cell_type": "code",
      "source": [
        "import os\n",
        "import subprocess\n",
        "\n",
        "# Change the current working directory to the notebook's directory\n",
        "notebook_path = \"/content/app.py\"  # Replace with the correct path to your notebook\n",
        "os.chdir(os.path.dirname(notebook_path))\n",
        "\n",
        "# Run the Flask application in the background\n",
        "flask_process = subprocess.Popen([\"python\", \"app.py\"], stdout=subprocess.PIPE, stderr=subprocess.PIPE, text=True)\n",
        "\n",
        "# Print the process output (optional)\n",
        "for line in iter(flask_process.stdout.readline, ''):\n",
        "    print(line, end='')\n"
      ],
      "metadata": {
        "id": "8SmmrLaKWHKv"
      },
      "execution_count": 16,
      "outputs": []
    },
    {
      "cell_type": "code",
      "source": [
        "import os\n",
        "from flask import Flask\n",
        "from flask_ngrok import run_with_ngrok\n",
        "\n",
        "app = Flask(__name__)\n",
        "run_with_ngrok(app)\n",
        "\n",
        "@app.route('/')\n",
        "def hello():\n",
        "    return \"Flask application running on Google Colab!\"\n",
        "\n",
        "os.chdir(\"/content\")\n",
        "app.run()\n"
      ],
      "metadata": {
        "colab": {
          "base_uri": "https://localhost:8080/"
        },
        "id": "KsDRSFzvYf9-",
        "outputId": "6b8f5bac-d5a0-4eb4-c4cf-06e628e6d9ad"
      },
      "execution_count": 17,
      "outputs": [
        {
          "output_type": "stream",
          "name": "stdout",
          "text": [
            " * Serving Flask app '__main__'\n",
            " * Debug mode: off\n"
          ]
        },
        {
          "output_type": "stream",
          "name": "stderr",
          "text": [
            "INFO:werkzeug:\u001b[31m\u001b[1mWARNING: This is a development server. Do not use it in a production deployment. Use a production WSGI server instead.\u001b[0m\n",
            " * Running on http://127.0.0.1:5000\n",
            "INFO:werkzeug:\u001b[33mPress CTRL+C to quit\u001b[0m\n"
          ]
        },
        {
          "output_type": "stream",
          "name": "stdout",
          "text": [
            " * Running on http://66aa-35-222-220-89.ngrok.io\n",
            " * Traffic stats available on http://127.0.0.1:4040\n"
          ]
        },
        {
          "output_type": "stream",
          "name": "stderr",
          "text": [
            "INFO:werkzeug:127.0.0.1 - - [22/Jul/2023 06:57:48] \"GET / HTTP/1.1\" 200 -\n",
            "INFO:werkzeug:127.0.0.1 - - [22/Jul/2023 06:57:49] \"\u001b[33mGET /static/EuclidSquare-Regular-WebS.woff HTTP/1.1\u001b[0m\" 404 -\n",
            "INFO:werkzeug:127.0.0.1 - - [22/Jul/2023 06:57:49] \"\u001b[33mGET /static/EuclidSquare-Medium-WebS.woff HTTP/1.1\u001b[0m\" 404 -\n",
            "INFO:werkzeug:127.0.0.1 - - [22/Jul/2023 06:57:49] \"\u001b[33mGET /static/IBMPlexMono-SemiBoldItalic.woff HTTP/1.1\u001b[0m\" 404 -\n",
            "INFO:werkzeug:127.0.0.1 - - [22/Jul/2023 06:57:49] \"\u001b[33mGET /static/IBMPlexMono-TextItalic.woff HTTP/1.1\u001b[0m\" 404 -\n",
            "INFO:werkzeug:127.0.0.1 - - [22/Jul/2023 06:57:49] \"\u001b[33mGET /static/IBMPlexMono-SemiBold.woff HTTP/1.1\u001b[0m\" 404 -\n",
            "INFO:werkzeug:127.0.0.1 - - [22/Jul/2023 06:57:49] \"\u001b[33mGET /static/IBMPlexMono-Text.woff HTTP/1.1\u001b[0m\" 404 -\n",
            "INFO:werkzeug:127.0.0.1 - - [22/Jul/2023 06:57:49] \"\u001b[33mGET /static/EuclidSquare-RegularItalic-WebS.woff HTTP/1.1\u001b[0m\" 404 -\n",
            "INFO:werkzeug:127.0.0.1 - - [22/Jul/2023 06:57:49] \"\u001b[33mGET /static/EuclidSquare-MediumItalic-WebS.woff HTTP/1.1\u001b[0m\" 404 -\n",
            "INFO:werkzeug:127.0.0.1 - - [22/Jul/2023 06:57:50] \"\u001b[33mGET /favicon.ico HTTP/1.1\u001b[0m\" 404 -\n",
            "INFO:werkzeug:127.0.0.1 - - [22/Jul/2023 06:57:50] \"GET / HTTP/1.1\" 200 -\n",
            "INFO:werkzeug:127.0.0.1 - - [22/Jul/2023 06:57:52] \"\u001b[33mGET /static/IBMPlexMono-TextItalic.woff HTTP/1.1\u001b[0m\" 404 -\n",
            "INFO:werkzeug:127.0.0.1 - - [22/Jul/2023 06:57:52] \"\u001b[33mGET /static/EuclidSquare-Medium-WebS.woff HTTP/1.1\u001b[0m\" 404 -\n",
            "INFO:werkzeug:127.0.0.1 - - [22/Jul/2023 06:57:52] \"\u001b[33mGET /static/EuclidSquare-Regular-WebS.woff HTTP/1.1\u001b[0m\" 404 -\n",
            "INFO:werkzeug:127.0.0.1 - - [22/Jul/2023 06:57:52] \"\u001b[33mGET /static/IBMPlexMono-SemiBoldItalic.woff HTTP/1.1\u001b[0m\" 404 -\n",
            "INFO:werkzeug:127.0.0.1 - - [22/Jul/2023 06:57:54] \"\u001b[33mGET /static/EuclidSquare-MediumItalic-WebS.woff HTTP/1.1\u001b[0m\" 404 -\n",
            "INFO:werkzeug:127.0.0.1 - - [22/Jul/2023 06:57:55] \"\u001b[33mGET /static/EuclidSquare-RegularItalic-WebS.woff HTTP/1.1\u001b[0m\" 404 -\n",
            "INFO:werkzeug:127.0.0.1 - - [22/Jul/2023 06:58:41] \"GET / HTTP/1.1\" 200 -\n",
            "INFO:werkzeug:127.0.0.1 - - [22/Jul/2023 06:58:41] \"\u001b[33mGET /static/EuclidSquare-Medium-WebS.woff HTTP/1.1\u001b[0m\" 404 -\n",
            "INFO:werkzeug:127.0.0.1 - - [22/Jul/2023 06:58:41] \"\u001b[33mGET /static/EuclidSquare-Regular-WebS.woff HTTP/1.1\u001b[0m\" 404 -\n",
            "INFO:werkzeug:127.0.0.1 - - [22/Jul/2023 06:58:41] \"\u001b[33mGET /static/IBMPlexMono-SemiBold.woff HTTP/1.1\u001b[0m\" 404 -\n",
            "INFO:werkzeug:127.0.0.1 - - [22/Jul/2023 06:58:41] \"\u001b[33mGET /static/IBMPlexMono-SemiBoldItalic.woff HTTP/1.1\u001b[0m\" 404 -\n",
            "INFO:werkzeug:127.0.0.1 - - [22/Jul/2023 06:58:41] \"\u001b[33mGET /static/IBMPlexMono-Text.woff HTTP/1.1\u001b[0m\" 404 -\n",
            "INFO:werkzeug:127.0.0.1 - - [22/Jul/2023 06:58:41] \"\u001b[33mGET /static/IBMPlexMono-TextItalic.woff HTTP/1.1\u001b[0m\" 404 -\n",
            "INFO:werkzeug:127.0.0.1 - - [22/Jul/2023 06:58:42] \"\u001b[33mGET /favicon.ico HTTP/1.1\u001b[0m\" 404 -\n",
            "INFO:werkzeug:127.0.0.1 - - [22/Jul/2023 06:58:42] \"\u001b[33mGET /static/EuclidSquare-RegularItalic-WebS.woff HTTP/1.1\u001b[0m\" 404 -\n",
            "INFO:werkzeug:127.0.0.1 - - [22/Jul/2023 06:58:42] \"\u001b[33mGET /static/EuclidSquare-MediumItalic-WebS.woff HTTP/1.1\u001b[0m\" 404 -\n",
            "INFO:werkzeug:127.0.0.1 - - [22/Jul/2023 07:06:18] \"GET / HTTP/1.1\" 200 -\n",
            "INFO:werkzeug:127.0.0.1 - - [22/Jul/2023 07:06:19] \"\u001b[33mGET /static/EuclidSquare-Medium-WebS.woff HTTP/1.1\u001b[0m\" 404 -\n",
            "INFO:werkzeug:127.0.0.1 - - [22/Jul/2023 07:06:19] \"\u001b[33mGET /static/EuclidSquare-Regular-WebS.woff HTTP/1.1\u001b[0m\" 404 -\n",
            "INFO:werkzeug:127.0.0.1 - - [22/Jul/2023 07:06:19] \"\u001b[33mGET /static/IBMPlexMono-TextItalic.woff HTTP/1.1\u001b[0m\" 404 -\n",
            "INFO:werkzeug:127.0.0.1 - - [22/Jul/2023 07:06:19] \"\u001b[33mGET /static/IBMPlexMono-SemiBoldItalic.woff HTTP/1.1\u001b[0m\" 404 -\n",
            "INFO:werkzeug:127.0.0.1 - - [22/Jul/2023 07:06:19] \"\u001b[33mGET /static/IBMPlexMono-SemiBold.woff HTTP/1.1\u001b[0m\" 404 -\n",
            "INFO:werkzeug:127.0.0.1 - - [22/Jul/2023 07:06:19] \"\u001b[33mGET /static/IBMPlexMono-Text.woff HTTP/1.1\u001b[0m\" 404 -\n",
            "INFO:werkzeug:127.0.0.1 - - [22/Jul/2023 07:06:19] \"\u001b[33mGET /favicon.ico HTTP/1.1\u001b[0m\" 404 -\n",
            "INFO:werkzeug:127.0.0.1 - - [22/Jul/2023 07:06:19] \"\u001b[33mGET /static/EuclidSquare-MediumItalic-WebS.woff HTTP/1.1\u001b[0m\" 404 -\n",
            "INFO:werkzeug:127.0.0.1 - - [22/Jul/2023 07:06:19] \"\u001b[33mGET /static/EuclidSquare-RegularItalic-WebS.woff HTTP/1.1\u001b[0m\" 404 -\n"
          ]
        }
      ]
    },
    {
      "cell_type": "code",
      "source": [
        "!pip install pyngrok"
      ],
      "metadata": {
        "colab": {
          "base_uri": "https://localhost:8080/"
        },
        "id": "Ol7MXgYacrrN",
        "outputId": "24736202-12a8-4b8a-94c7-607d22fe791b"
      },
      "execution_count": 19,
      "outputs": [
        {
          "output_type": "stream",
          "name": "stdout",
          "text": [
            "Collecting pyngrok\n",
            "  Downloading pyngrok-6.0.0.tar.gz (681 kB)\n",
            "\u001b[2K     \u001b[90m━━━━━━━━━━━━━━━━━━━━━━━━━━━━━━━━━━━━━━━\u001b[0m \u001b[32m681.2/681.2 kB\u001b[0m \u001b[31m6.0 MB/s\u001b[0m eta \u001b[36m0:00:00\u001b[0m\n",
            "\u001b[?25h  Preparing metadata (setup.py) ... \u001b[?25l\u001b[?25hdone\n",
            "Requirement already satisfied: PyYAML in /usr/local/lib/python3.10/dist-packages (from pyngrok) (6.0.1)\n",
            "Building wheels for collected packages: pyngrok\n",
            "  Building wheel for pyngrok (setup.py) ... \u001b[?25l\u001b[?25hdone\n",
            "  Created wheel for pyngrok: filename=pyngrok-6.0.0-py3-none-any.whl size=19867 sha256=26728b1c493831c00fed5c57c71e9b8f669041afe0e9fc900d9e87c66ad42483\n",
            "  Stored in directory: /root/.cache/pip/wheels/5c/42/78/0c3d438d7f5730451a25f7ac6cbf4391759d22a67576ed7c2c\n",
            "Successfully built pyngrok\n",
            "Installing collected packages: pyngrok\n",
            "Successfully installed pyngrok-6.0.0\n"
          ]
        }
      ]
    },
    {
      "cell_type": "code",
      "source": [
        "!ngrok authtoken 2SuvDX2yVu0LxzfwcYwPmn02PBO_6j5Gw7XXMnWgGerS8LwyY"
      ],
      "metadata": {
        "colab": {
          "base_uri": "https://localhost:8080/"
        },
        "id": "n0Ne6e-YcH8s",
        "outputId": "7a65b80c-594b-44d7-b560-c37e19198087"
      },
      "execution_count": 20,
      "outputs": [
        {
          "output_type": "stream",
          "name": "stdout",
          "text": [
            "Authtoken saved to configuration file: /root/.ngrok2/ngrok.yml\n"
          ]
        }
      ]
    },
    {
      "cell_type": "code",
      "source": [
        "import os\n",
        "from flask import Flask\n",
        "from flask_ngrok import run_with_ngrok\n",
        "\n",
        "app = Flask(__name__)\n",
        "run_with_ngrok(app)\n",
        "\n",
        "@app.route('/')\n",
        "def hello():\n",
        "    return \"Flask application running on Google Colab!\"\n",
        "\n",
        "os.chdir(\"/content\")\n",
        "app.run()"
      ],
      "metadata": {
        "colab": {
          "base_uri": "https://localhost:8080/"
        },
        "id": "Gm8g993ccxhb",
        "outputId": "b0d86cad-6874-4a99-82b4-d48a4f605106"
      },
      "execution_count": 21,
      "outputs": [
        {
          "output_type": "stream",
          "name": "stdout",
          "text": [
            " * Serving Flask app '__main__'\n",
            " * Debug mode: off\n"
          ]
        },
        {
          "output_type": "stream",
          "name": "stderr",
          "text": [
            "INFO:werkzeug:\u001b[31m\u001b[1mWARNING: This is a development server. Do not use it in a production deployment. Use a production WSGI server instead.\u001b[0m\n",
            " * Running on http://127.0.0.1:5000\n",
            "INFO:werkzeug:\u001b[33mPress CTRL+C to quit\u001b[0m\n"
          ]
        },
        {
          "output_type": "stream",
          "name": "stdout",
          "text": [
            " * Running on http://697b-35-222-220-89.ngrok-free.app\n",
            " * Traffic stats available on http://127.0.0.1:4040\n"
          ]
        },
        {
          "output_type": "stream",
          "name": "stderr",
          "text": [
            "INFO:werkzeug:127.0.0.1 - - [22/Jul/2023 07:15:23] \"GET / HTTP/1.1\" 200 -\n",
            "INFO:werkzeug:127.0.0.1 - - [22/Jul/2023 07:15:23] \"\u001b[33mGET /favicon.ico HTTP/1.1\u001b[0m\" 404 -\n"
          ]
        }
      ]
    },
    {
      "cell_type": "code",
      "source": [
        "import pickle\n",
        "\n",
        "# Load the trained model\n",
        "model = pickle.load(open('img_model.p', 'rb'))"
      ],
      "metadata": {
        "id": "1l7uknibdc8m"
      },
      "execution_count": 22,
      "outputs": []
    },
    {
      "cell_type": "code",
      "source": [
        "import numpy as np\n",
        "from skimage.io import imread\n",
        "from skimage.transform import resize\n",
        "\n",
        "def predict_image(image_path):\n",
        "    img = imread(image_path)\n",
        "    img_resized = resize(img, (150, 150, 3))\n",
        "    img_flat = img_resized.flatten()\n",
        "    img_flat = np.array([img_flat])  # Reshape the input to match the model's expectations\n",
        "    prediction = model.predict(img_flat)\n",
        "    return prediction[0]"
      ],
      "metadata": {
        "id": "8Hjt85VVdhKi"
      },
      "execution_count": 23,
      "outputs": []
    },
    {
      "cell_type": "code",
      "source": [
        "@app.route('/')\n",
        "def index():\n",
        "    return render_template('index.html')\n",
        "\n",
        "@app.route('/predict', methods=['POST'])\n",
        "def predict():\n",
        "    if request.method == 'POST':\n",
        "        # Get the uploaded file from the form\n",
        "        file = request.files['file']\n",
        "        if file:\n",
        "            # Save the uploaded file to a temporary directory\n",
        "            file_path = os.path.join('/content/temp', file.filename)\n",
        "            file.save(file_path)\n",
        "\n",
        "            # Make prediction on the uploaded image\n",
        "            prediction = predict_image(file_path)\n",
        "\n",
        "            # Render the result page with the prediction\n",
        "            return render_template('result.html', prediction=prediction)\n",
        "    return render_template('error.html')\n"
      ],
      "metadata": {
        "id": "nvRbH471dp1W"
      },
      "execution_count": 24,
      "outputs": []
    },
    {
      "cell_type": "code",
      "source": [
        "if not os.path.exists('/content/temp'):\n",
        "    os.makedirs('/content/temp')"
      ],
      "metadata": {
        "id": "chIhRIaVd5ag"
      },
      "execution_count": 25,
      "outputs": []
    },
    {
      "cell_type": "code",
      "source": [
        "if __name__ == '__main__':\n",
        "    app.run()\n"
      ],
      "metadata": {
        "colab": {
          "base_uri": "https://localhost:8080/"
        },
        "id": "lEztjJ9oeOsJ",
        "outputId": "ef4fbca3-0c3a-4ff1-c59a-9aa460481ccd"
      },
      "execution_count": null,
      "outputs": [
        {
          "output_type": "stream",
          "name": "stdout",
          "text": [
            " * Serving Flask app '__main__'\n",
            " * Debug mode: off\n"
          ]
        },
        {
          "output_type": "stream",
          "name": "stderr",
          "text": [
            "INFO:werkzeug:\u001b[31m\u001b[1mWARNING: This is a development server. Do not use it in a production deployment. Use a production WSGI server instead.\u001b[0m\n",
            " * Running on http://127.0.0.1:5000\n",
            "INFO:werkzeug:\u001b[33mPress CTRL+C to quit\u001b[0m\n"
          ]
        },
        {
          "output_type": "stream",
          "name": "stdout",
          "text": [
            " * Running on http://6df2-35-222-220-89.ngrok-free.app\n",
            " * Traffic stats available on http://127.0.0.1:4040\n"
          ]
        },
        {
          "output_type": "stream",
          "name": "stderr",
          "text": [
            "INFO:werkzeug:127.0.0.1 - - [22/Jul/2023 07:21:12] \"GET / HTTP/1.1\" 200 -\n",
            "INFO:werkzeug:127.0.0.1 - - [22/Jul/2023 07:21:12] \"\u001b[33mGET /favicon.ico HTTP/1.1\u001b[0m\" 404 -\n"
          ]
        }
      ]
    }
  ]
}